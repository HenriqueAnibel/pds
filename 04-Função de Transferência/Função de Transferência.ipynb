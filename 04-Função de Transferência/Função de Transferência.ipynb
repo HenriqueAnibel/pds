{
 "cells": [
  {
   "cell_type": "markdown",
   "metadata": {},
   "source": [
    "# Função de Transferência"
   ]
  },
  {
   "cell_type": "markdown",
   "metadata": {},
   "source": [
    "## 1. Introdução"
   ]
  },
  {
   "cell_type": "markdown",
   "metadata": {},
   "source": [
    "Dando continuidade ao estudo de análise dos Sistemas Lineares Invariantes no Tempo Discreto (SLITD), vamos aprender agora uma outra forma de representação que facilita a análise de estabilidade desses sistemas, chamada de **Função de Transferência**, $H(z)$, calculada a partir da Transformada Z da Resposta ao Impulso Unitário, $h[n]$."
   ]
  },
  {
   "cell_type": "markdown",
   "metadata": {},
   "source": [
    "## 2. Fundamentação Teórica"
   ]
  },
  {
   "cell_type": "markdown",
   "metadata": {},
   "source": [
    "### 2.1 Definição \n",
    "A saída $y[n]$ de um SLITD em repouso (Resposta de Estado Nulo) é dada pela convolução da entrada $x[n]$ com a resposta ao impulso $h[n]$ do SLITD:\n",
    "$$y[n] = x[n]\\ast h[n]\\tag 1$$\n",
    "\n",
    "Aplicando a Transformada Z na Equação (1) e usando a propriedade da Transformada Z para a operação da convolução, temos:\n",
    "\n",
    "$$Y(z) = X(z).H(z)\\tag 2$$\n",
    "\n",
    "onde: $Y(z)$, $X(z)$ e $H(z)$ são as Transformadas Z dos sinais $y[n]$, $x[n]$ e $h[n]$, respectivamente. \n",
    "\n",
    "A **Função de Transferência do Sistema**, também conhecida por Função Sistema e Função Transmissão, é definida pela Equação (2). Esta função do domínio Z, assim como a Resposta ao Impulso do domínio do tempo, caracterizam completamente o comportamento dinâmico de um SLITD relaxado. Da Equação (3) temos:\n",
    "\n",
    "$$H(z)=\\frac{Y(z)}{X(z)}\\tag 3$$\n"
   ]
  },
  {
   "cell_type": "markdown",
   "metadata": {},
   "source": [
    "<img src=\"img\\fig1.png\" alt=\"SLITD - no Tempo Discreto e em Z\" height=150 width=400><figcaption>**Figura 1** - SLITD representado no domínio do Tempo Discreto e no domínio Z.</figcaption>"
   ]
  },
  {
   "cell_type": "markdown",
   "metadata": {},
   "source": [
    "Muitas propriedades dos SLITDs podem ser associadas às características da **Função de Transferência**, H(z), e em particular, à sua Região de Convergência (RDC) e à localização de seus pólos no plano-Z. \n",
    "\n",
    "Em geral, a **Função de Transferência** pode ser escrita na forma de uma razão polinomial em Z:\n",
    "\n",
    "$$H(z)=\\frac{b_0+b_1z^{-1}+b_2z^{-2}+...+b_Mz^{-M}}{1+a_1z^{-1}+a_2z^{-2}+...+a_Nz^{-N}}=\\frac{B(z)}{A(z)}\\tag 4$$\n",
    "\n",
    "Todo SLITd pode ser descrito por uma **Função de Transferência** e existem algumas famílias de funções de transferência especiais que são mais frequentemente usadas na modelagem dos sistemas. Alguns filtros (SLITD's) típicos são projetados para realizar funções de transferência do tipo Passa Baixa, Passa Alta, Passa Faixa e Rejeita Faixa."
   ]
  },
  {
   "cell_type": "markdown",
   "metadata": {},
   "source": [
    "### 2.2 Características na Frequência de alguns Filtros típicos:\n",
    "<ul><li><font color=\"blue\">Filtro de Butterworth</font> – banda passante mais plana possível, para uma dada ordem.</li>\n",
    "<li><font color=\"blue\">Filtro de Chebyshev (Tipo I)</font> – sem ripple na banda de rejeição, menor banda de transição em relação às dos filtros de Butterworth.</li>\n",
    "<li><font color=\"blue\">Filtro de Chebyshev (Tipo II)</font> – sem ripple na banda passante, menor banda de transição em relação às dos filtros de Butterworth.</li>\n",
    "<li><font color=\"blue\">Filtro de Bessel</font> – melhor resposta impulsiva para uma dada ordem, porque não apresenta ripple no atraso de grupo (resposta de fase a mais plana possível).</li>\n",
    "<li><font color=\"blue\">Filtro Elíptico (Cauer)</font> – menor banda de transição possível, para uma dada ordem.</li>\n",
    "    <li><b>Filtro Ampulheta (<i>Hourglass</i>)</b> – similar ao Chebyshev Tipo II, com menor banda de transição, maior atraso de grupo, maior atenuação na banda de rejeição e ligeira oscilação na banda passante (caso especial de filtro Eliptico).</li>\n",
    "<li><b>Filtro Casado</b> – ótima resposta impulsiva para qualquer forma de pulso (resposta ao degrau é uma rampa). Usado na maximização da relação sinal/ruído (SNR) de sistemas de comunicaão digital, minimizando a probabilidade da não detecção de erros em sinais recebidos.</li><li><b>Filtro Gaussiano</b> – menor atraso de grupo possível, para uma dada ordem; sem overshoot para entradas do tipo degrau.</li>\n",
    "<li><b>Filtro Cosseno Levantado (<i>raised-cosine</i>)</b> – usado na moldagem de pulsos em sistemas digitais de comunicação para diminuir a interferência entre símbolos (ISI – <i>Inter-Symbol Interference</i>). A resposta ao impulso desse filtro é caracterizada por dois parâmetros:  $\\beta$, fator de decaimento (*roll-off*) (medida do excesso de largura de banda ocupada além do limite de Nyquist, $f_s/2=1/(2T_s)$) e $T_s$, recíproco da taxa de símbolos."
   ]
  },
  {
   "cell_type": "markdown",
   "metadata": {},
   "source": [
    "Resposta em Frequência:\n",
    "$$H(f)=\\left\\{\\begin{matrix}\n",
    "T, \\;\\;\\;\\;\\;\\;\\;\\;\\;\\;\\;\\;\\;\\;\\; |f| \\le \\frac{1-\\beta}{2T}\\\\ \n",
    "\\frac{T}{2}\\left [ 1+\\cos \\left ( \\frac{\\pi T}{\\beta} \\left [ |f|-\\frac{1-\\beta}{2T} \\right ]  \\right ) \\right ] , \\;\\;\\;\\; \\frac{1-\\beta}{2T} < |f| \\leqslant \\frac{1+\\beta}{2T} \\\\ \n",
    "0, \\;\\;\\;\\;\\;\\;\\;\\;\\;\\;\\;\\;\\;\\;\\; |f| \\geqslant \\leqslant \\frac{1+\\beta}{2T} \n",
    "\\end{matrix}\\right.$$\n",
    "<hr><img src=\"img\\fig2a.png\" alt=\"Resp. em Freq. do Filtro Cosseno Levantado\" height=150 width=400><figcaption><b>Figura 2</b> - Resposta em Frequência do <font color=\"blue\">Filtro Cosseno Levantado.</font></figcaption>"
   ]
  },
  {
   "cell_type": "markdown",
   "metadata": {},
   "source": [
    "## 3. Propriedades"
   ]
  },
  {
   "cell_type": "markdown",
   "metadata": {},
   "source": [
    "### 3.1 Causalidade\n",
    "\n",
    "Para um SLITD causal a seguinte condição deve ser atendida:\n",
    "\n",
    "$$h[n]=0,\\;\\;\\;\\;\\;\\;n<0 \\tag 5$$\n",
    "\n",
    "Como $h[n]$ é uma sequência unilateral direita, a condição correspondente para convergência de $H(z)$ é que sua RDC seja externa ao círculo de raio $\\sigma_{máx}$:\n",
    "\n",
    "$$|z|>\\sigma_{máx} \\tag 6$$\n",
    "    \n",
    "onde: $\\sigma_{máx}$ é o polo de maior módulo (valor absoluto) de $H(z)$."
   ]
  },
  {
   "cell_type": "markdown",
   "metadata": {},
   "source": [
    "### 3.2 Estabilidade\n",
    "\n",
    "Um SLITD será estável se sua Resposta ao Impulso for absolutamente somável:\n",
    "\n",
    "$$\\sum_{n=-\\infty}^{\\infty} \\left | h[n] \\right | < \\infty \\tag 7$$\n",
    "\n",
    "A condição correspondente para $H(z)$ é que sua RDC contenha o círculo unitário, $|z|=1$."
   ]
  },
  {
   "cell_type": "markdown",
   "metadata": {},
   "source": [
    "### 3.3 Sistemas Causais e Estáveis\n",
    "\n",
    "Se um sistema for a mesmo tempo causal e estável, então todos os pólos de $H(z)$ devem estar no interior do círculo unitário do plano z, porque a RDC será da forma $|z|>\\sigma_{máx}$, e, como o círculo unitário deverá estar contido na RDC, então o raio da RDC deverá ser menor que a unidade:   $\\sigma_{máx}<1$."
   ]
  },
  {
   "cell_type": "markdown",
   "metadata": {},
   "source": [
    "## 4. Realização de Sistemas"
   ]
  },
  {
   "cell_type": "markdown",
   "metadata": {},
   "source": [
    "Os SLITDs (ou filtros digitais) descritos por funções de transferências podem ser realizados por algumas formas padronizadas de circuitos eletrônicos, conhecidas por **Formas de Realização**: <font color=\"blue\">*Direta I, Direta II, Cascata e Paralela*</font>.\n",
    "\n",
    "As realizações são representadas em diagramas de blocos, e cada bloco representa um circuito eletrônico específico, tais como:\n",
    "\n",
    "- **Bloco de Multiplicação**: circuito amplificador ou atenuador do sinal na entrada, conforme fator multiplicador, $b_i$.\n",
    "\n",
    "- **Bloco de Atraso Unitário**: circuito de atraso (memória) do sinal na entrada em uma unidade de tempo - normalmente um intervalo de amostragem, $T_s$.\n",
    "\n",
    "- **Bloco Somador**: circuito eletrônico que realiza a soma dos sinais presentes em suas entradas.\n",
    "\n",
    "A Figura 4 mostra a representação gráfica desses blocos."
   ]
  },
  {
   "cell_type": "markdown",
   "metadata": {},
   "source": [
    "<img src=\"img\\fig3.png\" alt=\"Blocos para realização de SLITDs\" height=550 width=800>\n",
    "<figcaption><b>Figura 3</b> - Blocos para realização de SLITDs</figcaption>\n",
    "\n",
    "<p></p>\n",
    "<p>Substituindo a Equação (3) na Equação (4), temos:\n",
    "\n",
    "$$(1+a_1z^{-1}+a_2z^{-2}+...+a_Nz^{-N}).Y(z)=(b_0+b_1z^{-1}+b_2z^{-2}+...+b_Mz^{-M}).X(z) \\tag 8$$\n",
    "\n",
    "Calculando a Transformada-Z Inversa da Equação (8) produzimos uma EDLCC que relaciona a entrada $x[n]$ e a saída $y[n]$ do SLITD no domínio do tempo:\n",
    "\n",
    "$$y[n]+a_1.y[n-1]+a_2.y[n-2]-...+a_N.y[n-N]=b_0.x[n]+b_1.x[n-1]+...+b_M.x[n-M]$$  \n",
    "\n",
    "$${\\color{Red} {y[n]}} = {\\color{Blue} {b_0.x[n]+b_1.x[n-1]+...+b_M.x[n-M]}} {\\color{Red} {–a_1.y[n-1]–a_2.y[n-2]-...–a_N.y[n-N]}} \\tag 9$$\n"
   ]
  },
  {
   "cell_type": "markdown",
   "metadata": {},
   "source": [
    "### 4.1 Forma Direta I\n",
    "\n",
    "A Equação (9) pode ser implementada pela **Forma Direta I** como mostrado na Figura 4.\n",
    "\n",
    "<img src=\"img\\fig4.png\" alt=\"Realização pela Forma Direta I\" height=550 width=450>\n",
    "<figcaption><b>Figura 4</b> - Realização pela Forma Direta I</figcaption>\n"
   ]
  },
  {
   "cell_type": "markdown",
   "metadata": {},
   "source": [
    "### 4.2 Forma Direta II\n",
    "\n",
    "Essa forma é conhecida também por **Forma Canônica**, ou seja, é a forma mais simples ou que expõe algo de grande importância, e nesse caso, por ser mais econômica em termos de blocos de atraso unitário. A partir das equações (3) e (4) podemos escrever:\n",
    "\n",
    "$$Y(z)=\\frac{B(z)}{A(z)}.X(z)=B(z).\\frac{X(z)}{A(z)}=B(z).W(z) \\tag {10}$$\n",
    "onde: $$W(z)=\\frac{X(z)}{A(z)}=\\frac{X(z)}{(\\color{Red}{1+a_1z^{-1}+a_2z^{-2}+...+a_Nz^{-N}})} \\tag {11}$$\n",
    "Logo: $$Y(z)= (\\color {Blue} {b_0+b_1.z^{-1}+...+b_M.z^{-M}}).W(z) \\tag {12}$$\n",
    "\n",
    "As equações de diferenças correspondentes podem ser obtidas pela Transformada Z Inversa das Equações (11) e (12):\n",
    "\n",
    "$$w[n]=x[n]–a_1.w[n-1]–...–a_N.w[n-N] \\tag {13}$$\n",
    "\n",
    "$$y[n]=b_0.w[n]+b_1.w[n-1]+...+b_M.w[n-M] \\tag {14}$$\n",
    "\n",
    "<img src=\"img\\fig5.png\" alt=\"Realização pela Forma Direta II\" height=550 width=450>\n",
    "<figcaption><b>Figura 5</b> - Realização pela Forma Direta II (considerando $N=M$)</figcaption>\n"
   ]
  },
  {
   "cell_type": "markdown",
   "metadata": {},
   "source": [
    "### 4.3 Cascata\n",
    "\n",
    "Outra forma padronizada usada na realização de um filtro digital, também conhecida por Conexão em Série (cascateamento) de funções de transferência fatoradas para 1^\\underline{a} ou 2^\\underline{a} ordem (seções):\n",
    "\n",
    "$$H(z)=H_1(z).H_2(z)...H_k(z) \\tag {15}$$\n",
    "\n",
    "Célula de primeira ordem: $$H_k(z)=\\frac{b_{k0}+b_{k1}z^{-1}}{1+a_{k1}z^{-1}}\\;\\;\\;\\;\\;$$ \n",
    "ou Célula de segunda ordem: $$H_k(z)=\\frac{b_{k0}+b_{k1}z^{-1}+b_{k2}z^{-2}}{1+a_{k1}z^{-1}+a_{k2}z^{-2}}$$\n",
    "\n",
    "<img src=\"img\\fig6.png\" alt=\"Realização em Cascata\" height=550 width=450>\n",
    "<figcaption><b>Figura 6</b> - Realização em Cascata</figcaption>\n"
   ]
  },
  {
   "cell_type": "markdown",
   "metadata": {},
   "source": [
    "### 4.4 Paralelo\n",
    "\n",
    "Outra forma de se realizar um filtro digital é escrever a função de transferência em soma de funções de transferência de 1^\\underline{a} ou 2^\\underline{a} ordem (seções), ou seja, seções em paralelo:\n",
    "\n",
    "$$H(z)=H_1(z)+H_2(z)+...+H_k(z) \\tag {16}$$\n",
    "\n",
    "Célula de primeira ordem: $$H_k(z)=\\frac{b_{k0}+b_{k1}z^{-1}}{1+a_{k1}z^{-1}}\\;\\;\\;\\;\\;$$ \n",
    "ou Célula de segunda ordem: $$H_k(z)=\\frac{b_{k0}+b_{k1}z^{-1}+b_{k2}z^{-2}}{1+a_{k1}z^{-1}+a_{k2}z^{-2}}$$\n",
    "\n",
    "<img src=\"img\\fig7.png\" alt=\"Realização em Paralelo\" height=550 width=450>\n",
    "<figcaption><b>Figura 7</b> - Realização em Paralelo</figcaption>\n"
   ]
  },
  {
   "cell_type": "markdown",
   "metadata": {},
   "source": [
    "## 5. Procedimento\n",
    "\n",
    "Seja o SLITD causal, em repouso, descrito por sua função de transferência:\n",
    "\n",
    "$$H(z)=\\frac{0,5(1+z^{-2})}{1+1,3z^{-1}+0,36z^{-2}}$$\n",
    "\n",
    "Esboce o diagrama de blocos de cada uma das formas de realização estudadas, indicando a equação de diferenças resultante em cada caso. Use somente seções de 1\\underline{a} ordem para as formas cascata e paralelo."
   ]
  },
  {
   "cell_type": "markdown",
   "metadata": {},
   "source": [
    "**Formas Diretas I e II** (F.D.I e F.D.II):  Nesses casos basta identificar os coeficientes $a_k$'s e $b_k$'s da função de transferência do SLITD:  $a_0=1$; $a_1=1,3$; $a_2=0,36$; $b_0=0,5$; $b_1=0$; $b_2=-0,5$. \n",
    "\n",
    "Da Equação (9) da F.D.I: $\\;\\;\\;\\;\\;\\;\\;\\;\\;\\;\\;\\;y[n]=0,5.x[n]–0,5.x[n-2]–1,3.y[n-1]–0,36.y[n-2]$\n",
    "\n",
    "Das Equações (13) e (14) da F.D.II: $\\;\\;\\;\\;\\;\\;\\left \\{ \\begin{matrix}\n",
    "\\begin{align}\n",
    "w[n] & =x[n]-1,3w[n-1]-0,36w[n-2] \\\\ \n",
    "y[n] & = 0,5w[n] - 0,5w[n-2]\n",
    "\\end{align}\n",
    "\\end{matrix}\\right.$\n",
    "\n",
    "Considerando os diagramas mostrados nas Figuras 3 e 4, produzimos o diagrama de blocos da **Forma Direta I** e da **Forma Direta II**, respectivamente:\n",
    "\n",
    "<img src=\"img\\fig8.png\" alt=\"Solução da realização nas Formas Diretas I e II\" height=550 width=750>"
   ]
  },
  {
   "cell_type": "markdown",
   "metadata": {},
   "source": [
    "**Forma Cascata**: Fatorando $H(z)$ em seções de 1a. ordem, teremos: \n",
    "\n",
    "$$H(z)=\\frac{0,5(1+z^{-2})}{1+1,3z^{-1}+0,36z^{-2}}=0,5\\frac{(1-z^{-1})(1+z^{-1})}{(1+0,4z^{-1})(1+0,9z^{-1})}=\\left(\\frac{0,5-0,5z^{-1}}{1+0,4z^{-1}}\\right).\\left(\\frac{1+z^{-1}}{1+0,9z^{-1}}\\right)$$\n",
    "\n",
    "As equações de diferenças para a realização da **Forma Cascata** das duas células de 1ª ordem realizadas na Forma Direta II são:\n",
    "- Célula 1:\n",
    "$\\;\\;\\;\\;\\;\\;\\left \\{ \\begin{matrix}\n",
    "\\begin{align}\n",
    "w_1[n] & =x[n]-0,4w_1[n-1] \\\\ \n",
    "y_1[n] & = 0,5w_1[n] - 0,5w_1[n-1]\n",
    "\\end{align}\n",
    "\\end{matrix}\\right.$\n",
    "<p></p>\n",
    "- Célula 2:\n",
    "$\\;\\;\\;\\;\\;\\;\\left \\{ \\begin{matrix}\n",
    "\\begin{align}\n",
    "w_2[n] & =y_1[n]-0,9w_2[n-1] \\\\ \n",
    "y[n] & = w_2[n] + w_2[n-1]\n",
    "\\end{align}\n",
    "\\end{matrix}\\right.$\n",
    "\n",
    "<img src=\"img\\fig9.png\" alt=\"Solução da realização na Forma Cascata\" height=550 width=750>"
   ]
  },
  {
   "cell_type": "markdown",
   "metadata": {},
   "source": [
    "**Forma Paralelo**: Expandindo $H(z)/z$ em frações parciais, teremos: \n",
    "\n",
    "$$\\frac{H(z)}{z}=\\frac{0,5(z^2-1)}{z(z^2+1,3z+0,36)}=0,5\\frac{(z^2-1)}{z(z+0,4)(z+0,9)}=\\frac{c_1}{z}.\\frac{c_2}{z+0,4}.\\frac{c_3}{z+0,9}$$"
   ]
  },
  {
   "cell_type": "code",
   "execution_count": 34,
   "metadata": {},
   "outputs": [
    {
     "name": "stdout",
     "output_type": "stream",
     "text": [
      "H(z)/z:\t\t\t\t[ 0.5  0.  -0.5] [ 1.    1.3   0.36  0.  ]\n",
      "Resíduos:\t\t\t[-0.21111111  2.1        -1.38888889]\n",
      "Polos de H(z)/z:\t\t[-0.9 -0.4  0. ]\n",
      "Termo(s) Independente(s):\t[ 0.]\n",
      "Expandido em Frações Parciais:\tH(z)/z = -0.21/(z+0.90)+2.10/(z+0.40)-1.39/z\n"
     ]
    }
   ],
   "source": [
    "from numpy import array\n",
    "from scipy.signal import residue, convolve\n",
    "num = 0.5*array([1.,0.,-1.])                              # 0,5(z^2 - 1)\n",
    "den = convolve([1.0,0.0],convolve([1.0,0.4],[1.0,0.9]))   # z(z + 0,4)(z+ 0,9)\n",
    "print \"H(z)/z:\\t\\t\\t\\t\", num, den\n",
    "c,p,k = residue(num,den)\n",
    "print \"Resíduos:\\t\\t\\t\", c\n",
    "print \"Polos de H(z)/z:\\t\\t\", p\n",
    "print \"Termo(s) Independente(s):\\t\", k\n",
    "print \"Expandido em Frações Parciais:\\t\",\n",
    "H_z = 'H(z)/z = '\n",
    "for i in range(len(p)):\n",
    "    if p[i] == 0:\n",
    "        H_z = H_z + \"%.2f/z\" % c[i]\n",
    "    else:\n",
    "        H_z = H_z + \"%+.2f/(z%+.2f)\" % (c[i],-p[i])\n",
    "print H_z"
   ]
  },
  {
   "cell_type": "markdown",
   "metadata": {},
   "source": [
    "$$Y(z)=\\left( -1,39+\\frac{2,1z}{z+0,4}-\\frac{0,21z}{z+0,9}\\right)X(z)$$\n",
    "\n",
    "No domínio do tempo: $$y[n]=-1,39.\\delta[n]+\\left[2,1(-0,4)^n-0,21(-0,9)^n\\right].u[n]$$"
   ]
  },
  {
   "cell_type": "markdown",
   "metadata": {},
   "source": [
    "<img src=\"img\\fig10.png\" alt=\"Solução da realização na Forma Paralela\" height=400 width=650>"
   ]
  },
  {
   "cell_type": "markdown",
   "metadata": {},
   "source": [
    "## Questões"
   ]
  },
  {
   "cell_type": "markdown",
   "metadata": {},
   "source": [
    "<ol><li>Um SLITD causal em repouso é descrito por sua EDLCC: $y[n]–3y[n–1]/4+y[n–2]/8=x[n]$: \n",
    "<ol style=\"list-style-type: lower-alpha; padding-bottom: 0;\">\n",
    "<li style=\"margin-left:1em\">Determine H(z).</li>\n",
    "<li style=\"margin-left:1em\">Trace o diagrama de polos e zeros e RDC.</li>\n",
    "<li style=\"margin-left:1em\">Classifique o sistema quanto à estabilidade.</li>\n",
    "<li style=\"margin-left:1em\">Encontre a resposta ao impulso e a resposta ao degrau.</li>\n",
    "<li style=\"margin-left:1em; padding-bottom: 0;\">Desenhe o diagrama de blocos de realização nas formas estudadas.</li>\n",
    "</ol><p></p>\n",
    "<li>Repita o item anterior para os SLITDs descritos por $H(z)=B(z)/A(z)$:</li>\n",
    "<ol style=\"list-style-type: lower-alpha; padding-bottom: 0;\">\n",
    "<li style=\"margin-left:1em\"> A = [1, -0.4],  B = [0.42, 0]</li>\n",
    "<li style=\"margin-left:1em\"> A = [1, -2.7, 2.43, -0.729],  B = [1/1000]</li>\n",
    "<li style=\"margin-left:1em; padding-bottom: 0;\"> A = [1, -2/3, 13/16],  B = [5/16, 0, 0]</li></ol>\n",
    "<p>\n",
    "<li>Considere o sistema descrito pelo diagrama de blocos mostrado a seguir. Escreva uma equação de diferenças relacionando a entrada $x[n]$ com a saída $y[n]$, usando a Transformada Z.\n",
    "<img src=\"img\\fig11.png\" alt=\"Solução da realização na Forma Paralelo\" height=400 width=650>\n",
    "<font size=\"-2\">*Dica*:\tRelacione os sinais $q[n]$, $x[n]$ e $y[n]$, e depois aplique a Transformada Z para encontrar $H(z)$. Em seguida, use a propriedade do deslocamento temporal para obter a equação de diferenças.</font>\n",
    "</li>\n",
    "<p><li>Indique as funções de transferência dos filtros citados no item <i>2.2 Características na Frequência de alguns Filtros típicos</i>, além de suas Respostas em Frequência e aplicações mais usuais.</li>\n",
    "</ol>"
   ]
  },
  {
   "cell_type": "markdown",
   "metadata": {},
   "source": [
    "By **Prof. Cláudio A. Fleury**, Abr/19."
   ]
  },
  {
   "cell_type": "markdown",
   "metadata": {},
   "source": [
    "## Apêndice"
   ]
  },
  {
   "cell_type": "markdown",
   "metadata": {},
   "source": [
    "Traçado de mapa de polos/zeros e Região de Convergência da **Função de Transferência** de SLITDs:"
   ]
  },
  {
   "cell_type": "code",
   "execution_count": 36,
   "metadata": {},
   "outputs": [
    {
     "data": {
      "image/png": "[encoded data removed]",
      "text/plain": [
       "<matplotlib.figure.Figure at 0xdcd6430>"
      ]
     },
     "metadata": {},
     "output_type": "display_data"
    }
   ],
   "source": [
    "% matplotlib inline\n",
    "# -*- coding: utf-8 -*-\n",
    "from matplotlib.pyplot import figure, subplot, plot, grid, gcf, axes, text\n",
    "from matplotlib.patches import Circle, Rectangle\n",
    "\n",
    "#%% mostra o mapa de polos e zeros de SLITD causal\n",
    "fig4 = figure()\n",
    "ax4 = fig4.add_subplot(111, aspect='equal')\n",
    "xpolos = [0.3,0.3]\n",
    "ypolos = [-0.3,0.3]\n",
    "xzeros = [0.]\n",
    "yzeros = [0.]\n",
    "plot(xpolos[0],ypolos[0],'rx', markeredgewidth=2.)\n",
    "plot(xpolos[1],ypolos[1],'rx', markeredgewidth=2.)\n",
    "plot(xzeros[0],yzeros[0],'bo', markeredgewidth=2.)\n",
    "ax4.axis((-1.,1.,-1.,1.)); grid('on')\n",
    "\n",
    "# mostra a RDC da Função de Transferência\n",
    "ax4.add_patch(Rectangle((-1., -1.), 2., 2., alpha=0.2, fill=True))\n",
    "raio = (0.3**2 + 0.3**2)**0.5   # valor absoluto de um dos polos conjugados\n",
    "ax4.add_patch(Circle((0., 0.), raio, color='w', fill=True, linestyle='dashed',\n",
    "              edgecolor='black', linewidth=3))\n",
    "text(0.5,-0.75,r'RDC: |z| $\\geq$ %4.2f' % raio, horizontalalignment='center')\n",
    "fig4.canvas.draw()"
   ]
  },
  {
   "cell_type": "markdown",
   "metadata": {},
   "source": [
    "### Exemplo"
   ]
  },
  {
   "cell_type": "markdown",
   "metadata": {},
   "source": [
    "Traçado do mapa de polos e zeros do SLITD:  $$H(z)=\\frac{z^2}{z^2+3z/4+1/8}$$"
   ]
  },
  {
   "cell_type": "code",
   "execution_count": 41,
   "metadata": {},
   "outputs": [
    {
     "data": {
      "image/png": "[encoded data removed]",
      "text/plain": [
       "<matplotlib.figure.Figure at 0x1051a190>"
      ]
     },
     "metadata": {},
     "output_type": "display_data"
    },
    {
     "data": {
      "image/png": "[encoded data removed]",
      "text/plain": [
       "<matplotlib.figure.Figure at 0x106ecff0>"
      ]
     },
     "metadata": {},
     "output_type": "display_data"
    }
   ],
   "source": [
    "# -*- coding: utf-8 -*-\n",
    "from matplotlib.pyplot import figure, title, plot, grid, text\n",
    "from matplotlib.patches import Circle, Rectangle\n",
    "from numpy import array; from scipy.signal import tf2zpk; from math import ceil\n",
    "\n",
    "def pzmapa(polos,zeros,causal=True):\n",
    "    # Traça o mapa de zeros e polos e a RDC de um SLITD\n",
    "    fig = figure(); eixos = fig.add_subplot(111, aspect='equal')\n",
    "    pd = {x:list(polos).count(x) for x in set(list(polos))}  # dicion. de polos\n",
    "    for p in pd:  \t\t\t# polos\n",
    "        pc = complex(p); plot(pc.real,pc.imag,'rx', markeredgewidth=2.)\n",
    "        if pd[p] > 1: text(pc.real*1.1, pc.imag*1.2, pd[p])  # multiplicidade\n",
    "    zd = {x:list(zeros).count(x) for x in set(list(zeros))}  # dicion. de zeros\n",
    "    for z in zd:  \t\t\t# zeros\n",
    "        zc = complex(z); plot(zc.real,zc.imag,'bo', markeredgewidth=2.)\n",
    "        if zd[z] > 1: text(zc.real*1.1, zc.imag*1.2, zd[z])  # multiplicidade\n",
    "\n",
    "    # Desenha a RDC\n",
    "    args = {\"xy\":(0.,0.),\"fill\":True,\"linestyle\":'dashed',\"edgecolor\":'black',\n",
    "            \"linewidth\":3}\n",
    "    if causal:\n",
    "        raio = max(abs(polos)); lim = ceil(raio) + 0.3\n",
    "        args[\"color\"] = 'w'\n",
    "    else:\n",
    "        raio = min(abs(polos)); lim = ceil(max(abs(polos))) + 0.3\n",
    "        args[\"alpha\"] = 0.2\n",
    "    args[\"radius\"] = raio; eixos.axis((-lim,lim,-lim,lim)); grid('on')\n",
    "    eixos.add_patch(Rectangle((-lim,-lim),2*lim,2*lim, alpha=0.2, fill=causal))\n",
    "    eixos.add_patch(Circle(**args)); title(\"Mapa de Polos e Zeros\")\n",
    "\n",
    "# b = [1., 0., 0.]; a = [1.,4.,5.,2.]      para   H(Z) = z^2/(z^2+3z/4+1/8), causal\n",
    "zeros = array([0.,0.]); polos = array([2.,-0.9,-0.9])\n",
    "pzmapa(polos,zeros)\n",
    "pzmapa(polos,zeros,False)"
   ]
  }
 ],
 "metadata": {
  "celltoolbar": "Raw Cell Format",
  "kernelspec": {
   "display_name": "Python 3",
   "language": "python",
   "name": "python3"
  },
  "language_info": {
   "codemirror_mode": {
    "name": "ipython",
    "version": 3
   },
   "file_extension": ".py",
   "mimetype": "text/x-python",
   "name": "python",
   "nbconvert_exporter": "python",
   "pygments_lexer": "ipython3",
   "version": "3.7.2"
  }
 },
 "nbformat": 4,
 "nbformat_minor": 2
}
