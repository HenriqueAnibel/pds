{
 "cells": [
  {
   "cell_type": "markdown",
   "metadata": {},
   "source": [
    "# Série de Fourier Discreta (SFD)"
   ]
  },
  {
   "cell_type": "markdown",
   "metadata": {},
   "source": [
    "## 1. Introdução"
   ]
  },
  {
   "cell_type": "markdown",
   "metadata": {},
   "source": [
    "O espectro de frequências de um sinal periódico discreto $x[n]$ (sequência de valores discretos) com período fundamental $N_0$, é obtido via coeficientes da __Série de Fourier Discreta__:  \n",
    "\n",
    "$$D[r]=\\frac{1}{N_0}\\sum_{n=0}^{N_0-1}x[n].e^{-\\jmath \\Omega_0 r n},\\;\\;\\;\\;\\; 0\\le r \\le N_0-1 \\tag 1$$   \n",
    "$$x[n]=\\sum_{r=0}^{N_0-1}D[r].e^{\\jmath \\Omega_0 r n},\\;\\;\\;\\;\\; 0\\le n \\le N_0-1\\;\\;\\text{com} \\;\\;\\Omega_0=\\frac{2\\pi}{N_0} \\tag 2$$\n",
    "\n",
    "onde:\t$D[r]$ são os coeficientes da Série de Fourier Discreta do sinal $x[n]$, também conhecidos por `coeficientes espectrais`.  \n",
    "\n",
    "A equação (1) é chamada de __Equação de Análise de Fourier__ e a equação (2) é chamada de __Equação de Síntese de Fourier__.\n",
    "\n",
    "Como a <mark>Série de Fourier para sinais de <b>tempo discreto</b></mark> é uma soma __finita__ de termos (convergência garantida), diferentemente do caso da <mark>Série de Fourier para sinais de <b>tempo contínuo</b></mark>, considerações sobre a convergência do somatório não são necessárias (condições de _Dirichlet_).\n"
   ]
  },
  {
   "cell_type": "markdown",
   "metadata": {},
   "source": [
    "### Propriedades das Série de Fourier\n",
    "\n",
    "<ol><li><b>Periodicidade</b> dos Coeficientes de Fourier:  \n",
    "\n",
    "$D[r]=D[r+N_0]$</li>  \n",
    "<p>\n",
    "<li><b>Dualidade</b>:  \n",
    "\n",
    "se $x[n] \\leftrightarrow D[r]$ então $D[n]\\leftrightarrow x[-r]/N_0$</li>  \n",
    "  \n",
    "<li><b>Reversão Temporal</b>:  \n",
    "\n",
    "$\\text{SFD}{x[-n]}=D[-r]$</li>  \n",
    "<p>  \n",
    "<li><b>Potência</b> (Teor. de Parseval):  \n",
    "    \n",
    "$\\frac{1}{N_0}\\sum_{n=<N_0>}^{} |x[n]|^2=\\sum_{r=<N_0>}^{} |D[r]|^2$</li>  \n",
    "  \n",
    "<li><b>Deslocamento Temporal</b>:  \n",
    "    \n",
    "$x[n-n_0] \\leftrightarrow e^{-\\jmath \\Omega_0 n_0 r} D[r]$ </li></ol>\n",
    "  "
   ]
  },
  {
   "cell_type": "markdown",
   "metadata": {},
   "source": [
    "## 2. Procedimentos\n",
    "\n",
    "2.1 Determine os coeficientes $D[r]$ da SFD do sinal periódico $x[n]$:\n",
    "\n",
    "![Sinal](img/proc1.png)  \n",
    "\n",
    "A sequência $x[n]$ é a extensão periódica de `[1, 2/3, 1/3, 0]` com período fundamental $N_0 = 4$.  Assim:\n",
    "\n",
    "$$\\Omega_0 = 2\\pi/N_0 = 2\\pi/4 = \\pi/2 \\;\\;(rad/amostra)$$\n",
    "   \n",
    "e:\n",
    "\n",
    "$$e^{-j\\Omega_0} = e^{-j\\pi/2} = cos(\\pi/2) – j.sen(\\pi/2) = -j$$\n",
    "\n",
    "Usando a equação de análise, equação (1): \n",
    "\n",
    "![Resolução](img/resol1.png)  \n",
    "\n",
    "![Sinal e Espectro](img/sinal_espectro1.png)  \n",
    "\n",
    "<figcaption><b>Figura 2</b> - Sinal $x[n]$ e seu espectro de frequências $D[r]$.</figcaption>"
   ]
  },
  {
   "cell_type": "code",
   "execution_count": 4,
   "metadata": {},
   "outputs": [
    {
     "data": {
      "text/plain": [
       "(-3.641592653589793, 3.641592653589793)"
      ]
     },
     "execution_count": 4,
     "metadata": {},
     "output_type": "execute_result"
    },
    {
     "data": {
      "image/png": "[encoded data removed]",
      "text/plain": [
       "<Figure size 432x288 with 3 Axes>"
      ]
     },
     "metadata": {
      "needs_background": "light"
     },
     "output_type": "display_data"
    }
   ],
   "source": [
    "%matplotlib inline\n",
    "import numpy as np\n",
    "import matplotlib.pylab as plt \n",
    "\n",
    "n = np.arange(-10,16)              # base de tempo\n",
    "N0 = 4                             # período (em amostras)\n",
    "Omega0 = 2.*np.pi/N0               # freq. digital (rad/amostra)\n",
    "xp = np.array([1.,2./3,1./3,0.])   # um período do sinal\n",
    "x = xp[n%N0]                       # repetição de vários períodos\n",
    "D = np.zeros((N0,),dtype=complex)  # vetor para coeficientes espectrais\n",
    "for r in np.arange(0,N0):\n",
    "    soma = 0.\n",
    "    for m in np.arange(0,N0):\n",
    "        soma += x[m] * np.exp(-1j*r*Omega0*m)\n",
    "    D[r] = soma/N0\n",
    "\n",
    "plt.subplot(2,1,1); plt.stem(n,x,use_line_collection=True); plt.ylabel('Ampl. (V)')\n",
    "plt.grid('on'); plt.title('Dente-de-Serra'); plt.ylim(-0.5,1.5)\n",
    "\n",
    "m = np.arange(0,N0)\n",
    "plt.subplot(2,2,3); plt.stem(m,np.abs(D),use_line_collection=True); plt.ylabel('Ampl. (V)')\n",
    "plt.grid('on'); plt.title('Magnitude - Coef.s Espectrais')\n",
    "plt.xlim(-1,4); plt.ylim(-0.5,1.0)\n",
    "\n",
    "plt.subplot(2,2,4); plt.stem(m,np.angle(D),use_line_collection=True); plt.ylabel('Ampl. (V)')\n",
    "plt.grid('on'); plt.title('Fase - Coef.s Espectrais')\n",
    "plt.xlim(-1,4); plt.ylim(-np.pi-0.5,np.pi+.5)"
   ]
  },
  {
   "cell_type": "markdown",
   "metadata": {},
   "source": [
    "2.2 Calcule a potência do sinal do item anterior, no domínio do tempo e da frequência.  \n",
    "\n",
    "2.3 Repita o procedimento 2.1 para os seguintes sinais:\n",
    "\n",
    "a) $x[n-2]$  \n",
    "\n",
    "A sequência $x[n-2]$ é a extensão periódica de `[1/3, 0, 1, 2/3]` com período fundamental $N_0 = 4$.  \n",
    "![Deslocamento Temporal](img/resol2.png)  \n",
    "\n",
    "b) $x[n-4]$  \n",
    "\n",
    "c) $x[-n]$  \n",
    "\n",
    "2.4 Suponha que o sinal $x[n]$ do procedimento 2.1 seja a resposta ao impulso de um SLITD e que o sinal da letra c) do procedimento 2.3 seja a entrada do SLITD.  Calcule a saída nos domínios do tempo e da frequência, bem como a potência da saída, também em ambos domínios.\n"
   ]
  },
  {
   "cell_type": "markdown",
   "metadata": {},
   "source": [
    "## 3. Questões"
   ]
  },
  {
   "cell_type": "markdown",
   "metadata": {},
   "source": [
    "1. Faça um _script_ para determinar os coeficientes $D[r]$ da SFD Exponencial Complexa do sinal $x[n-2]$, obtido a partir do sinal $x[n]$ mostrado a seguir, e trace o espectro de frequências e os sinais sintetizados.\n",
    "\n",
    "![Trem de Pulsos](img/sinalQ1.png)  \n",
    "\n",
    "2. Idem à questão anterior para o sinal $y[n]$ mostrado a seguir e para o sinal $|y[n]|$.  \n",
    "\n",
    "![Trem de Pulsos Polarizados](img/sinalQ2.png)  \n",
    "\n",
    "3. Desenvolva uma aplicação que exiba uma lista de sinais periódicos (pelo menos quatro sinais), e apresente o sinal escolhido pelo usuário no domínio do tempo (três ou mais períodos) e no domínio da frequência (espectro de frequência – magnitude e fase). O usuário poderá estabelecer o período, a fase e a amplitude de cada sinal escolhido.  "
   ]
  },
  {
   "cell_type": "markdown",
   "metadata": {},
   "source": [
    "By **Prof. Cláudio A. Fleury**, Nov/19."
   ]
  }
 ],
 "metadata": {
  "celltoolbar": "Raw Cell Format",
  "kernelspec": {
   "display_name": "Python 3",
   "language": "python",
   "name": "python3"
  },
  "language_info": {
   "codemirror_mode": {
    "name": "ipython",
    "version": 3
   },
   "file_extension": ".py",
   "mimetype": "text/x-python",
   "name": "python",
   "nbconvert_exporter": "python",
   "pygments_lexer": "ipython3",
   "version": "3.7.2"
  }
 },
 "nbformat": 4,
 "nbformat_minor": 2
}
