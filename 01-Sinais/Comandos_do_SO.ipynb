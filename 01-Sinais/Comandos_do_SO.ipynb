{
 "cells": [
  {
   "cell_type": "code",
   "execution_count": 12,
   "metadata": {
    "collapsed": false
   },
   "outputs": [
    {
     "name": "stdout",
     "output_type": "stream",
     "text": [
      "'Jupyter Notebook - boa ferramenta!\\n\\rJupyter Notebook - boa ferramenta!'\n"
     ]
    }
   ],
   "source": [
    "mensagem = 'Jupyter Notebook - boa ferramenta!'       # var. string no Python\n",
    "!echo '$mensagem\\n\\r$mensagem'"
   ]
  },
  {
   "cell_type": "code",
   "execution_count": 6,
   "metadata": {
    "collapsed": false
   },
   "outputs": [
    {
     "name": "stdout",
     "output_type": "stream",
     "text": [
      " O volume na unidade E ‚ Dados\n",
      " O N£mero de S‚rie do Volume ‚ 6026-232F\n",
      "\n",
      " Pasta de E:\\mdp\\Curso\\disc.s\\pds\\_Lab\\_Roteiros\\1-Sinais\n",
      "\n",
      "03/03/2019  17:29    <DIR>          .\n",
      "03/03/2019  17:29    <DIR>          ..\n",
      "03/03/2019  17:29    <DIR>          .ipynb_checkpoints\n",
      "03/03/2019  17:29             1.185 Comandos_do_SO.ipynb\n",
      "13/08/2015  21:44            84.138 Lab01c-Sinais.docx\n",
      "29/09/2016  15:30            80.246 SL Lab1 2015 Sinais.docx\n",
      "               3 arquivo(s)        165.569 bytes\n",
      "               3 pasta(s)   20.525.756.416 bytes dispon¡veis\n"
     ]
    }
   ],
   "source": [
    "!dir"
   ]
  },
  {
   "cell_type": "code",
   "execution_count": 14,
   "metadata": {
    "collapsed": false
   },
   "outputs": [
    {
     "name": "stdout",
     "output_type": "stream",
     "text": [
      "E:\\mdp\\Curso\\disc.s\\pds\\_Lab\\_Roteiros\\1-Sinais\n"
     ]
    }
   ],
   "source": [
    "!cd"
   ]
  },
  {
   "cell_type": "code",
   "execution_count": 16,
   "metadata": {
    "collapsed": false
   },
   "outputs": [
    {
     "data": {
      "text/html": [
       "<marquee style='width: 30%; color: blue;'><b>Olá Mundão!</b></marquee>"
      ],
      "text/plain": [
       "<IPython.core.display.HTML object>"
      ]
     },
     "metadata": {},
     "output_type": "display_data"
    }
   ],
   "source": [
    "%%html\n",
    "<marquee style='width: 30%; color: blue;'><b>Olá Mundão!</b></marquee>"
   ]
  },
  {
   "cell_type": "code",
   "execution_count": 19,
   "metadata": {
    "collapsed": false
   },
   "outputs": [
    {
     "data": {
      "text/html": [
       "<svg xmlns=\"http://www.w3.org/2000/svg\" \n",
       "     viewBox=\"0 0 450 400\" width=\"200\" height=\"200\">\n",
       "  <rect x=\"80\" y=\"60\" width=\"250\" height=\"250\" rx=\"20\" \n",
       "        style=\"fill:red; stroke:black; fill-opacity:0.7\" />\n",
       "  <rect x=\"180\" y=\"110\" width=\"250\" height=\"250\" rx=\"40\" \n",
       "        style=\"fill:blue; stroke:black; fill-opacity:0.5;\" />\n",
       "</svg>"
      ],
      "text/plain": [
       "<IPython.core.display.HTML object>"
      ]
     },
     "metadata": {},
     "output_type": "display_data"
    }
   ],
   "source": [
    "%%html\n",
    "<svg xmlns=\"http://www.w3.org/2000/svg\" \n",
    "     viewBox=\"0 0 450 400\" width=\"200\" height=\"200\">\n",
    "  <rect x=\"80\" y=\"60\" width=\"250\" height=\"250\" rx=\"20\" \n",
    "        style=\"fill:red; stroke:black; fill-opacity:0.7\" />\n",
    "  <rect x=\"180\" y=\"110\" width=\"250\" height=\"250\" rx=\"40\" \n",
    "        style=\"fill:blue; stroke:black; fill-opacity:0.5;\" />\n",
    "</svg>"
   ]
  },
  {
   "cell_type": "code",
   "execution_count": 20,
   "metadata": {
    "collapsed": true
   },
   "outputs": [],
   "source": [
    "import numpy as np\n",
    "np.random?"
   ]
  },
  {
   "cell_type": "code",
   "execution_count": null,
   "metadata": {
    "collapsed": true
   },
   "outputs": [],
   "source": []
  }
 ],
 "metadata": {
  "kernelspec": {
   "display_name": "Python 2",
   "language": "python",
   "name": "python2"
  },
  "language_info": {
   "codemirror_mode": {
    "name": "ipython",
    "version": 2
   },
   "file_extension": ".py",
   "mimetype": "text/x-python",
   "name": "python",
   "nbconvert_exporter": "python",
   "pygments_lexer": "ipython2",
   "version": "2.7.9"
  }
 },
 "nbformat": 4,
 "nbformat_minor": 2
}
