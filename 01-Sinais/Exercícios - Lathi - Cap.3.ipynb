{
 "cells": [
  {
   "cell_type": "markdown",
   "metadata": {},
   "source": [
    "# Sinais Discretos - Exercícios\n",
    "## Lathi, Cap. 3 - Análise no Tempo Discreto"
   ]
  },
  {
   "cell_type": "markdown",
   "metadata": {},
   "source": [
    "3.2-3 Para o sinal $x[n]\\;=\\;\\{\\underline0,1,2,3,2,1\\}$ esboce os seguintes sinais:  \n",
    "a) $x[-n]$  \n",
    "b) $x[n+6]$  \n",
    "c) $x[n-6]$  \n",
    "d) $x[3n]$  \n",
    "e) $x[n/3]$  \n",
    "f) $x[3-n]$  \n"
   ]
  },
  {
   "cell_type": "markdown",
   "metadata": {},
   "source": [
    "3.2-4 Repita o exercício anterior para o sinal $x[n]\\;=\\;\\{-3,-2,-1,\\underline0,1,2,3\\}$."
   ]
  },
  {
   "cell_type": "markdown",
   "metadata": {},
   "source": [
    "3.3-1 Trace o gráfico e determine a potência dos seguintes sinais:  \n",
    "a) $(1)^n$  \n",
    "b) $(-1)^n$  \n",
    "c) $u[n]$  \n",
    "d) $(-1)^nu[n]$    \n",
    "e) $cos\\left(\\frac{\\pi}{3}n+\\frac{\\pi}{6}\\right)$  "
   ]
  },
  {
   "cell_type": "markdown",
   "metadata": {},
   "source": [
    "<span style=\"font-family:Courier New; font-size:1.2em; color:red\"><b>Solução</b>:</span>  \n",
    "a) $P_x = \\lim\\limits_{N \\to \\infty}\\frac{1}{2N+1}\\sum_{n=-N}^N(1)^n=1$"
   ]
  },
  {
   "cell_type": "code",
   "execution_count": 33,
   "metadata": {},
   "outputs": [
    {
     "data": {
      "image/png": "[encoded data removed]",
      "text/plain": [
       "<Figure size 432x288 with 1 Axes>"
      ]
     },
     "metadata": {
      "needs_background": "light"
     },
     "output_type": "display_data"
    }
   ],
   "source": [
    "from numpy import arange\n",
    "from pylab import stem, ylim\n",
    "\n",
    "n = arange(-10,11)              # abscissas: base temporal\n",
    "x = 1.**n\n",
    "stem(n,x,use_line_collection=True); ylim(-0.5,1.5);"
   ]
  },
  {
   "cell_type": "markdown",
   "metadata": {},
   "source": [
    "3.4-1 A saída de uma caixa registradora, $y[n]$, representa o custo total de $n$ itens registrados pelo caixa. A entrada $x[n]$ é o custo do $n$-ésimo item.  \n",
    "a) Escreva a equação diferença que relacione $y[n]$ com $x[n]$.  \n",
    "b) Realize este sistema usando um elemento de atraso de tempo."
   ]
  },
  {
   "cell_type": "markdown",
   "metadata": {},
   "source": [
    "<span style=\"font-family:Courier New; font-size:1.2em; color:red\"><b>Solução</b>:</span>  \n",
    "$y[n] = y[n-1] + x[n]$  \n",
    "O que nos leva à Equação Diferença: $y[n] - y[n-1] = x[n]$  "
   ]
  },
  {
   "cell_type": "code",
   "execution_count": 34,
   "metadata": {},
   "outputs": [
    {
     "data": {
      "image/png": "[encoded data removed]",
      "text/plain": [
       "<Figure size 432x288 with 1 Axes>"
      ]
     },
     "metadata": {
      "needs_background": "light"
     },
     "output_type": "display_data"
    }
   ],
   "source": [
    "from numpy import arange, zeros\n",
    "from pylab import stem, ylim\n",
    "\n",
    "n = arange(-10,11)              # abscissas: base temporal\n",
    "origem = 10                     # posição (índice) da origem dos tempos\n",
    "x = (n>=1)*n\n",
    "y = zeros(len(x))\n",
    "for i in n+origem:\n",
    "    if i >= 0:\n",
    "        y[i] = y[i-1] + x[i]\n",
    "stem(n,x,use_line_collection=True)\n",
    "stem(n,y,use_line_collection=True);"
   ]
  },
  {
   "cell_type": "markdown",
   "metadata": {},
   "source": [
    "3.4-10 Um sistema discreto é dado por  \n",
    "$$y[n+1]=\\frac{x[n]}{x[n+1]}$$  \n",
    "a) O sistema é estável BIBO? Justifique sua resposta.  \n",
    "b) O sistema é sem memória? Justifique sua resposta.  \n",
    "c) O sistema é causal? Justifique sua resposta."
   ]
  },
  {
   "cell_type": "markdown",
   "metadata": {},
   "source": [
    "3.8-1 Determine a resposta (estado nulo), $y[n]$, do SLITD cuja resposta ao impulso, $h[n]$, é:  \n",
    "\n",
    "$$h[n]=(-2)^nu[n-1]$$  \n",
    "quando a entrada, $x[n]$, for:  \n",
    "$$x[n]=e^{-n}u[n+1]$$  \n",
    "Determine sua resposta calculando o somatório de convolução e também usando a tabela de convolução (Tab. 3.1)."
   ]
  },
  {
   "cell_type": "code",
   "execution_count": null,
   "metadata": {},
   "outputs": [],
   "source": []
  }
 ],
 "metadata": {
  "kernelspec": {
   "display_name": "Python 3",
   "language": "python",
   "name": "python3"
  },
  "language_info": {
   "codemirror_mode": {
    "name": "ipython",
    "version": 3
   },
   "file_extension": ".py",
   "mimetype": "text/x-python",
   "name": "python",
   "nbconvert_exporter": "python",
   "pygments_lexer": "ipython3",
   "version": "3.7.2"
  }
 },
 "nbformat": 4,
 "nbformat_minor": 2
}
