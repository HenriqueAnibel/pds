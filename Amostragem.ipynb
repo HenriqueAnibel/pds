{
 "cells": [
  {
   "cell_type": "markdown",
   "metadata": {
    "deletable": true,
    "editable": true
   },
   "source": [
    "# <span style=\"color:blue\">Amostragem de Sinais</span>"
   ]
  },
  {
   "cell_type": "markdown",
   "metadata": {
    "deletable": true,
    "editable": true
   },
   "source": [
    "Computadores com placas de áudio podem ser usados para explorar aspectos de <B>AMOSTRAGEM</B> e <B>ALIASING</B>. <P>Neste laboratório vamos gerar sinais e verificar os efeitos da reprodução com diferentes frequências de amostragem."
   ]
  },
  {
   "cell_type": "markdown",
   "metadata": {
    "deletable": true,
    "editable": true
   },
   "source": [
    "### Sinal Básico"
   ]
  },
  {
   "cell_type": "markdown",
   "metadata": {
    "deletable": true,
    "editable": true
   },
   "source": [
    "Verifique se o <i>script</i> seguinte funciona como esperado, ou seja, se um tom LÁ (440 Hz) é reproduzido durante 2 segundos."
   ]
  },
  {
   "cell_type": "code",
   "execution_count": 9,
   "metadata": {
    "collapsed": true,
    "deletable": true,
    "editable": true
   },
   "outputs": [],
   "source": [
    "from numpy import arange, cos, pi, int8, fft\n",
    "from pyaudio import PyAudio\n",
    "from pylab import plot, show\n",
    "from scipy.io import loadmat\n",
    "\n",
    "def toca(tom,fs=8000):\n",
    "  x = PyAudio()\n",
    "  fluxo = x.open(format=x.get_format_from_width(1),\n",
    "                 channels=1, rate=fs, output=True)\n",
    "  amostras = ((tom + 1) * 127.5).astype(int8)\n",
    "  fluxo.write(amostras.tostring())\n",
    "\n",
    "\n",
    "Fs = 8000                     # frequência de amostragem\n",
    "Ts = 1./Fs                    # intervalo de amostragem\n",
    "tfinal = 1                    # qtde de tempo\n",
    "n = arange(0,tfinal/Ts)       # índice temporal\n",
    "ftom = 440                    # freq. do LA central (’A’)\n",
    "tom = cos(2*pi*ftom*n*Ts)     # gera amostras do sinal senoidal\n",
    "toca(tom,Fs)                  # toca o sinal (em 8000 sa/seg)\n",
    "\n",
    "# Fonte: github.com/lneuhaus/pysine/blob/master/pysine/pysine.py"
   ]
  },
  {
   "cell_type": "markdown",
   "metadata": {
    "deletable": true,
    "editable": true
   },
   "source": [
    "A partir dos comentários no <i>script</i>, deve estar claro o que está acontecendo. Nós configuramos os parâmetros do sistema, geramos amostras do sinal e o reproduzimos no alto-falante. Por padrão, o comando de som é reproduzido em 8000 amostras/s. <p>Experimente amplitudes diferentes para o cosseno; escolha uma amplitude que proporcione um volume de som  confortável pois você vai ouvir esse sinal muitas vezes. <p>Plote o espectro de frequências do tom gerado (valor absoluto da FFT do sinal: <span style=\"font-family:Courier New; font-size:1em;\">*plot(abs(fft(tom)))*</span> ). <p>Explique as abscissas com **valores** e **porque** esses valores aparecem nessas abscissas."
   ]
  },
  {
   "cell_type": "markdown",
   "metadata": {
    "deletable": true,
    "editable": true
   },
   "source": [
    "### Subamostragem"
   ]
  },
  {
   "cell_type": "markdown",
   "metadata": {
    "deletable": true,
    "editable": true
   },
   "source": [
    "O sinal pode ser subamostrado pegando uma amostra e desprezando a seguinte..."
   ]
  },
  {
   "cell_type": "code",
   "execution_count": 11,
   "metadata": {
    "collapsed": true,
    "deletable": true,
    "editable": true
   },
   "outputs": [],
   "source": [
    "tom2 = tom[::2]\n",
    "toca(tom2,Fs)                 # reproduz o sinal na freq. original"
   ]
  },
  {
   "cell_type": "markdown",
   "metadata": {
    "deletable": true,
    "editable": true
   },
   "source": [
    "Para efeito de comparação toque esse sinal com a metade da frequência original:"
   ]
  },
  {
   "cell_type": "code",
   "execution_count": 14,
   "metadata": {
    "collapsed": true,
    "deletable": true,
    "editable": true
   },
   "outputs": [],
   "source": [
    "toca(tom2,Fs/2)               # reproduz o sinal numa taxa reduzida"
   ]
  },
  {
   "cell_type": "markdown",
   "metadata": {
    "deletable": true,
    "editable": true
   },
   "source": [
    "Como soa o sinal <span style=\"font-family:Courier New; font-size:1em;\">tom2</span>? Como se compara a frequência deste sinal com a do primeiro sinal? O que se percebe ao ouvir ambos tons? Trace o espectro do sinal <span style=\"font-family:Courier New; font-size:1em;\">tom2</span> nos moldes do que foi feito para o sinal <span style=\"font-family:Courier New; font-size:1em;\">tom</span>. Explique que caixas têm picos e por quê. <p>Explique as abscissas com **valores** e **porque** esses valores aparecem nessas abscissas"
   ]
  },
  {
   "cell_type": "markdown",
   "metadata": {
    "deletable": true,
    "editable": true
   },
   "source": [
    "### Outras Decimações"
   ]
  },
  {
   "cell_type": "markdown",
   "metadata": {
    "deletable": true,
    "editable": true
   },
   "source": [
    "Vamos experimentar outras decimações, ouvindo e plotando os espectros dos sinais decimandos. <p>Em particular, subamostre o sinal por 3,5,8,9,10,15. O que acontece na decimação a partir do fator 9? Por que?"
   ]
  },
  {
   "cell_type": "code",
   "execution_count": 5,
   "metadata": {
    "collapsed": false,
    "deletable": true,
    "editable": true
   },
   "outputs": [
    {
     "name": "stdout",
     "output_type": "stream",
     "text": [
      "Decimando por 3. Pressione [Enter] p/ iniciar\n",
      "\n",
      " Decimando por 5. Pressione [Enter] p/ iniciar\n",
      "\n",
      " Decimando por 8. Pressione [Enter] p/ iniciar\n",
      "\n",
      " Decimando por 9. Pressione [Enter] p/ iniciar\n",
      "\n",
      " Decimando por 10. Pressione [Enter] p/ iniciar\n",
      "\n",
      " Decimando por 15. Pressione [Enter] p/ iniciar\n",
      "\n",
      "\n"
     ]
    }
   ],
   "source": [
    "fatores = [2,3,5,7,8,9,10]\n",
    "for f in fatores:\n",
    "    print 'Decimando por %d. ' % f,\n",
    "    raw_input('Pressione [Enter] p/ iniciar\\n')   # aguardando a tecla [Enter]\n",
    "    tomdec = tom[::f]                             # tom decimado\n",
    "    plot(abs(fft.fft(tomdec))); show()\n",
    "    toca(tomdec,Fs)                               # reproduz o tom decimado\n"
   ]
  },
  {
   "cell_type": "markdown",
   "metadata": {
    "deletable": true,
    "editable": true
   },
   "source": [
    "Descreva exatamente que frequência é produzida por cada um dos fatores de decimação. Descreva o que está acontecendo quando o sinal começa a diminuir em frequência. Como chamamos isso? Responda levando em consideração o comportamento dos espectros.  Os picos mudam como esperado? Você observa algum vazamento espectral nesses gráficos?"
   ]
  },
  {
   "cell_type": "markdown",
   "metadata": {
    "deletable": true,
    "editable": true
   },
   "source": [
    "### Mudança da taxa de reprodução"
   ]
  },
  {
   "cell_type": "markdown",
   "metadata": {
    "deletable": true,
    "editable": true
   },
   "source": [
    "Agora vamos alterar a taxa (freq.) de reprodução."
   ]
  },
  {
   "cell_type": "code",
   "execution_count": 6,
   "metadata": {
    "collapsed": true,
    "deletable": true,
    "editable": true
   },
   "outputs": [],
   "source": [
    "toca(tom,Fs/2)"
   ]
  },
  {
   "cell_type": "markdown",
   "metadata": {
    "deletable": true,
    "editable": true
   },
   "source": [
    "O comando anterior reproduz o sinal em 4000 amostras/seg (ao invés do padrão de 8000 amostras/seg). Com o que se parece o som reproduzido? Porque? <p>Experimente reproduzir o tom em taxas do tipo: Fs, 1.1\\*Fs, 0.9\\*Fs, 2\\*Fs, Fs/2, Fs/3, Fs/4.\n",
    "(escreva um pequeno script para facilitar a conclusão dessa tarefa.) <p>Descreva como o som produzido muda com estas taxas de amostragem, e porque? "
   ]
  },
  {
   "cell_type": "markdown",
   "metadata": {
    "deletable": true,
    "editable": true
   },
   "source": [
    "### Sinal Gorjeio (<i>Chirp</i>)"
   ]
  },
  {
   "cell_type": "markdown",
   "metadata": {
    "deletable": true,
    "editable": true
   },
   "source": [
    "Agora vamos experimentar um sinal de gorjeio de pássaro, o qual muda sua frequência instantânea com o tempo. <p>Queremos um sinal que mude sua frequência no tempo, de modo que no tempo $t = 0$ a frequência seja $f_1$ Hz e no tempo $t = t_f$ a frequência seja $f_2$ Hz, com variação linear na frequência em função do tempo. Tal sinal é chamado de '*chirp*' linear. Para configurar os dados para tal sinal, precisamos dar uma olhada na relação entre frequência e fase. <p>Considere um sinal"
   ]
  },
  {
   "cell_type": "markdown",
   "metadata": {
    "deletable": true,
    "editable": true
   },
   "source": [
    "$s(t)=cos(2\\pi f_{0}t)$"
   ]
  },
  {
   "cell_type": "markdown",
   "metadata": {
    "deletable": true,
    "editable": true
   },
   "source": [
    "O argumento para a função cosseno é sempre a fase (sem dimensão). Neste caso, o sinal deste cosseno é $\\theta(t)=2πf_0t$. Observe que a frequência do sinal pode ser calculada por:"
   ]
  },
  {
   "cell_type": "markdown",
   "metadata": {
    "deletable": true,
    "editable": true
   },
   "source": [
    "$$\\frac{1}{2\\pi} \\frac{d\\theta(t)}{dt}=f_0$$"
   ]
  },
  {
   "cell_type": "markdown",
   "metadata": {
    "deletable": true,
    "editable": true
   },
   "source": [
    "Nesse caso, a frequência é constante. \n",
    "<p>Mais genericamente, podemos ter uma função de fase que não varia linearmente com o tempo, o que leva a uma frequência variante no tempo. Em geral, para uma função de fase $\\theta(t)$ definimos como *frequência instantânea*:"
   ]
  },
  {
   "cell_type": "markdown",
   "metadata": {
    "deletable": true,
    "editable": true
   },
   "source": [
    "$$f(t)=\\frac{1}{2\\pi} \\frac{d\\theta(t)}{dt}\\;\\;\\;\\;\\;\\;\\;\\;\\;\\;\\;\\;\\;\\;\\;(1)$$"
   ]
  },
  {
   "cell_type": "markdown",
   "metadata": {
    "deletable": true,
    "editable": true
   },
   "source": [
    "Agora vamos definir como queremos nossa frequência instantânea. Façamos $f(t)$ denotar a frequência como uma função do tempo. Queremos $f(0)=f_1$ e $f(t_f)=f_2$, com variação linear entre elas. Podemos então escrever:"
   ]
  },
  {
   "cell_type": "markdown",
   "metadata": {
    "deletable": true,
    "editable": true
   },
   "source": [
    "$$f(t)=f_1+\\frac{f_2-f_1}{t_f}t\\;\\;$$  ou   $$\\;\\;f(t)=f_1+m.t\\;\\;$$ onde $$\\;\\;m=\\frac{f_2-f_1}{t_f}t$$"
   ]
  },
  {
   "cell_type": "markdown",
   "metadata": {
    "deletable": true,
    "editable": true
   },
   "source": [
    "Agora vamos usar isso no contexto da *frequência instantânea* definida na equação (1):"
   ]
  },
  {
   "cell_type": "markdown",
   "metadata": {
    "deletable": true,
    "editable": true
   },
   "source": [
    "$$\\frac{1}{2\\pi} \\frac{d\\theta(t)}{dt}=f_1+m.t$$"
   ]
  },
  {
   "cell_type": "markdown",
   "metadata": {
    "deletable": true,
    "editable": true
   },
   "source": [
    "ou $$\\theta(t)=2\\pi(f_1t+\\frac{1}{2}m.t^2)$$"
   ]
  },
  {
   "cell_type": "markdown",
   "metadata": {
    "deletable": true,
    "editable": true
   },
   "source": [
    " Este é o argumento para a função cosseno que geraria esse sinal. Ou seja, nós usaríamos:"
   ]
  },
  {
   "cell_type": "markdown",
   "metadata": {
    "deletable": true,
    "editable": true
   },
   "source": [
    "$$s(t) = cos(\\theta(t)) = cos(2\\pi t(f_1 + \\frac{1}{2}m.t))$$"
   ]
  },
  {
   "cell_type": "markdown",
   "metadata": {
    "deletable": true,
    "editable": true
   },
   "source": [
    "Observe que a quantidade que multiplica o tempo $t$ é $$f_1+\\frac{m.t}{2}$$"
   ]
  },
  {
   "cell_type": "markdown",
   "metadata": {
    "deletable": true,
    "editable": true
   },
   "source": [
    "No código abaixo, chamamos isso de frequência, embora não seja estritamente a frequência instantânea"
   ]
  },
  {
   "cell_type": "code",
   "execution_count": null,
   "metadata": {
    "collapsed": true
   },
   "outputs": [],
   "source": [
    "Fs = 8000\n",
    "Ts = 1./Fs\n",
    "tfinal = 4                   # tempo final\n",
    "t = arange(0,tfinal,Ts)      # base temporal\n",
    "f1 = 440                     # freq. inicial do gorjeio\n",
    "f2 = 1000                    # freq. final do gorjeio\n",
    "m = (f2-f1)/tfinal           # inclinação do gorjeio\n",
    "f = f1 + m*t/2               # frequência variante com o tempo (linear)\n",
    "gorjeio = cos(2*pi*f*t)"
   ]
  },
  {
   "cell_type": "code",
   "execution_count": 3,
   "metadata": {
    "collapsed": true,
    "deletable": true,
    "editable": true
   },
   "outputs": [],
   "source": [
    "toca(gorjeio,Fs);"
   ]
  },
  {
   "cell_type": "markdown",
   "metadata": {
    "collapsed": true,
    "deletable": true,
    "editable": true
   },
   "source": [
    "Explique o que está acontecendo e por que isso funciona. \n",
    "<p>Agora mude as frequências inicial e final para $f_1$ = 2000 Hz e $f_2$ = 8000 Hz. Gere um gráfico da frequência e toque o sinal como antes. Qual é a frequência final percebida? Por que a frequência aumenta e depois diminui?"
   ]
  },
  {
   "cell_type": "code",
   "execution_count": null,
   "metadata": {
    "collapsed": true
   },
   "outputs": [],
   "source": [
    "# Seu código\n",
    "f1 = 2000                    # freq. inicial do gorjeio\n",
    "f2 = 8000                    # freq. final do gorjeio\n",
    "m = (f2-f1)/tfinal           # inclinação do gorjeio\n",
    "f = f1 + m*t/2               # frequência variante com o tempo (linear)\n",
    "gorjeio = cos(2*pi*f*t)\n",
    "toca(gorjeio,Fs);"
   ]
  },
  {
   "cell_type": "code",
   "execution_count": 8,
   "metadata": {
    "collapsed": false
   },
   "outputs": [],
   "source": [
    "plot(abs(fft.fft(gorjeio))); show()"
   ]
  },
  {
   "cell_type": "markdown",
   "metadata": {},
   "source": [
    "### Aliasing na Música"
   ]
  },
  {
   "cell_type": "markdown",
   "metadata": {},
   "source": [
    "Agora vamos tentar o efeito aliasing numa música real. Existe um arquivo no sistema conhecido como handel, que tem um pedaço do Coro Aleluia. Você pode carregá-lo (na variável chamada y) e reproduzi-lo"
   ]
  },
  {
   "cell_type": "code",
   "execution_count": 15,
   "metadata": {
    "collapsed": false
   },
   "outputs": [
    {
     "name": "stdout",
     "output_type": "stream",
     "text": [
      "[[ 0.        ]\n",
      " [-0.00615681]\n",
      " [-0.07503608]\n",
      " ..., \n",
      " [ 0.22741703]\n",
      " [ 0.15045695]\n",
      " [ 0.        ]]\n"
     ]
    }
   ],
   "source": [
    "handel = loadmat(\"handel.mat\")\n",
    "print handel['y']"
   ]
  },
  {
   "cell_type": "code",
   "execution_count": 18,
   "metadata": {
    "collapsed": false
   },
   "outputs": [],
   "source": [
    "aleluia = handel['y']\n",
    "Fs = 8192\n",
    "toca(aleluia,Fs)"
   ]
  },
  {
   "cell_type": "markdown",
   "metadata": {},
   "source": [
    "Para obter o efeito que o aliasing pode ter, experimente os seguintes comandos: "
   ]
  },
  {
   "cell_type": "code",
   "execution_count": 21,
   "metadata": {
    "collapsed": true
   },
   "outputs": [],
   "source": [
    "toca(aleluia[::2], Fs) "
   ]
  },
  {
   "cell_type": "code",
   "execution_count": 22,
   "metadata": {
    "collapsed": true
   },
   "outputs": [],
   "source": [
    "toca(aleluia[::2], Fs/2); "
   ]
  },
  {
   "cell_type": "code",
   "execution_count": 23,
   "metadata": {
    "collapsed": true
   },
   "outputs": [],
   "source": [
    "toca(aleluia[::3], Fs/3); "
   ]
  },
  {
   "cell_type": "code",
   "execution_count": null,
   "metadata": {
    "collapsed": true
   },
   "outputs": [],
   "source": [
    "toca(aleluia[::4], Fs/4); "
   ]
  },
  {
   "cell_type": "code",
   "execution_count": 24,
   "metadata": {
    "collapsed": true
   },
   "outputs": [],
   "source": [
    "toca(aleluia[::5], Fs/5);"
   ]
  },
  {
   "cell_type": "markdown",
   "metadata": {},
   "source": [
    "Descreva o efeito que esses comandos têm na reprodução da música e por que eles ocorrem. (Por exemplo, explique por que você obtém o coro de macacos no primeiro.) Por que tanto a decimação (como aleluia[::4]) e a alteração da taxa de amostragem (como Fs/4) são necessárias para manter as coisas corretamente."
   ]
  },
  {
   "cell_type": "markdown",
   "metadata": {},
   "source": [
    "By **Prof. Cláudio A. Fleury**, Fev/19."
   ]
  }
 ],
 "metadata": {
  "kernelspec": {
   "display_name": "Python 2",
   "language": "python",
   "name": "python2"
  },
  "language_info": {
   "codemirror_mode": {
    "name": "ipython",
    "version": 2
   },
   "file_extension": ".py",
   "mimetype": "text/x-python",
   "name": "python",
   "nbconvert_exporter": "python",
   "pygments_lexer": "ipython2",
   "version": "2.7.9"
  }
 },
 "nbformat": 4,
 "nbformat_minor": 2
}
